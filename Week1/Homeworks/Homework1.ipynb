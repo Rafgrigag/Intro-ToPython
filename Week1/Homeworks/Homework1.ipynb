{
 "cells": [
  {
   "cell_type": "code",
   "execution_count": null,
   "metadata": {},
   "outputs": [],
   "source": [
    "a=15\n",
    "b=8\n",
    "c=2\n",
    "print(5*a**2-a*b+(a%2)-a/5)\n",
    "print(b**3+3*a*b-10*c)\n",
    "\n",
    "x=int(input(\"Dividend: \"))\n",
    "y=int(input(\"Devisor: \" ))\n",
    "print(x%y==0)\n",
    "print(\"result\",int((x-x%y)/y))\n",
    "print(\"remainder\",x%y)\n"
   ]
  },
  {
   "cell_type": "code",
   "execution_count": null,
   "metadata": {},
   "outputs": [],
   "source": []
  }
 ],
 "metadata": {
  "kernelspec": {
   "display_name": "Python 3",
   "language": "python",
   "name": "python3"
  },
  "language_info": {
   "codemirror_mode": {
    "name": "ipython",
    "version": 3
   },
   "file_extension": ".py",
   "mimetype": "text/x-python",
   "name": "python",
   "nbconvert_exporter": "python",
   "pygments_lexer": "ipython3",
   "version": "3.7.1"
  }
 },
 "nbformat": 4,
 "nbformat_minor": 2
}
