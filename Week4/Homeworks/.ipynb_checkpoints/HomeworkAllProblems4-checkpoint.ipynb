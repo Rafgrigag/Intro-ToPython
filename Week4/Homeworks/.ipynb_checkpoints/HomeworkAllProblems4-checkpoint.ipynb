{
 "cells": [
  {
   "cell_type": "code",
   "execution_count": null,
   "metadata": {},
   "outputs": [],
   "source": [
    "#problem1\n",
    "n_shoes=int(input('''pair(s): '''))\n",
    "x=100*n_shoes\n",
    "if x>=1000:\n",
    "    print('You get a discount')\n",
    "else:\n",
    "    print('You don’t get a discount')\n",
    "    "
   ]
  },
  {
   "cell_type": "code",
   "execution_count": null,
   "metadata": {},
   "outputs": [],
   "source": [
    "#problem2\n",
    "d= {'name': 'Armen', 'age': 15, 'grades': [10,8,8,4,6,7] }\n",
    "avg=sum(d['grades'])/len(d['grades'])\n",
    "if avg>7:\n",
    "    print('Good Job!')\n",
    "else:\n",
    "    print('You need to work more!')"
   ]
  },
  {
   "cell_type": "code",
   "execution_count": 1,
   "metadata": {},
   "outputs": [
    {
     "name": "stdout",
     "output_type": "stream",
     "text": [
      "1\n",
      "3\n",
      "5\n",
      "7\n",
      "9\n"
     ]
    }
   ],
   "source": [
    "#problem3\n",
    "for i in range(11):\n",
    "    if i%2==0:\n",
    "        continue\n",
    "    print(i)"
   ]
  },
  {
   "cell_type": "code",
   "execution_count": null,
   "metadata": {},
   "outputs": [],
   "source": [
    "#problem4\n",
    "list1 = [1,3,5,7,9,11,13,15]\n",
    "list2= [4,6,14,11,8,16]\n",
    "for i in range(len(list1)):\n",
    "    if list1[i] in list2:\n",
    "         break\n",
    "    else:\n",
    "        print(list1[i])\n",
    "    \n",
    "    \n"
   ]
  },
  {
   "cell_type": "code",
   "execution_count": null,
   "metadata": {},
   "outputs": [],
   "source": [
    "#problem5\n",
    "menu=['ice cream', 'chocolate', 'apple crisp', 'cookies']\n",
    "c=0\n",
    "des=input('Choose your dessert! ')\n",
    "while c<1:\n",
    "    if des in menu:\n",
    "        c=c+1\n",
    "        print('Your desert will arrive in 10 minutes! ')\n",
    "    else:\n",
    "        des=input('Please choose another desert! ')\n",
    "        \n",
    "    "
   ]
  },
  {
   "cell_type": "code",
   "execution_count": 8,
   "metadata": {},
   "outputs": [
    {
     "name": "stdout",
     "output_type": "stream",
     "text": [
      "4\n"
     ]
    }
   ],
   "source": [
    "#problem6\n",
    "list2=[1,4,5,8,6,11,8,]\n",
    "numbers=[x for x in list2 if x>=5 and x<=10]\n",
    "print(len(numbers))"
   ]
  },
  {
   "cell_type": "code",
   "execution_count": 14,
   "metadata": {},
   "outputs": [
    {
     "name": "stdout",
     "output_type": "stream",
     "text": [
      "[[10, 20, 100], [40, 50, 100], [70, 80, 100]]\n"
     ]
    }
   ],
   "source": [
    "#problrm7\n",
    "list4=[[10, 20, 40], [40, 50, 60], [70, 80, 90]]\n",
    "list5=list4.copy()\n",
    "for i in range(len(list4)):\n",
    "    list5[i][-1]=100\n",
    "print(list5)\n",
    "    "
   ]
  }
 ],
 "metadata": {
  "kernelspec": {
   "display_name": "Python 3",
   "language": "python",
   "name": "python3"
  },
  "language_info": {
   "codemirror_mode": {
    "name": "ipython",
    "version": 3
   },
   "file_extension": ".py",
   "mimetype": "text/x-python",
   "name": "python",
   "nbconvert_exporter": "python",
   "pygments_lexer": "ipython3",
   "version": "3.7.1"
  }
 },
 "nbformat": 4,
 "nbformat_minor": 2
}
