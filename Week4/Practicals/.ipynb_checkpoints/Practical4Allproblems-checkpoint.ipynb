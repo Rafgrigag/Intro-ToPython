{
 "cells": [
  {
   "cell_type": "code",
   "execution_count": null,
   "metadata": {},
   "outputs": [],
   "source": [
    "#problem1\n",
    "n1=int(input('number1: '))\n",
    "n2=int(input('number2: '))\n",
    "if n1>=n2:\n",
    "    print('The number %d is greatest'% n1)\n",
    "else:\n",
    "    print('The number %d is greatest'% n2)"
   ]
  },
  {
   "cell_type": "code",
   "execution_count": null,
   "metadata": {},
   "outputs": [],
   "source": [
    "#problem2\n",
    "a=int(input('a: '))\n",
    "b=int(input('b: '))\n",
    "\n",
    "if a==b:\n",
    "    print('square')\n",
    "else:\n",
    "    print('rectangle')"
   ]
  },
  {
   "cell_type": "code",
   "execution_count": null,
   "metadata": {},
   "outputs": [],
   "source": [
    "#problem3\n",
    "name=input(\"Name: \")\n",
    "age=int(input('age: '))\n",
    "password=input(\"password: \")\n",
    "if name==\"Batman\":\n",
    "    print( 'Welcome Mr.Batman!')\n",
    "else:\n",
    "    print( 'Welcome %s!' % name)\n",
    "if age<16:\n",
    "    print( 'Dear %s, you are too young to register' % name)\n",
    "if \"*\" in password or \"&\" in password: \n",
    "    print (\"\")\n",
    "else:\n",
    "    print (\"Please enter a different password\")"
   ]
  },
  {
   "cell_type": "code",
   "execution_count": null,
   "metadata": {},
   "outputs": [],
   "source": [
    "#problem4\n",
    "d= {'name': 'Armen', 'age': 15,'grades': [10, 8, 8, 4, 6, 7] }\n",
    "if \"weight\" in d:\n",
    "    print(d['weight'])\n",
    "else:\n",
    "    d['weight']=int(input('weight: '))\n",
    "    print(d)"
   ]
  },
  {
   "cell_type": "code",
   "execution_count": null,
   "metadata": {},
   "outputs": [],
   "source": [
    "#problrm5\n",
    "for i in range(100):\n",
    "    if (i % 2) !=0: \n",
    "        print(i)"
   ]
  },
  {
   "cell_type": "code",
   "execution_count": null,
   "metadata": {},
   "outputs": [],
   "source": [
    "#problem6\n",
    "for i in range(7):\n",
    "    if i==2 or i==4:\n",
    "        continue\n",
    "    else:\n",
    "        print(i)"
   ]
  },
  {
   "cell_type": "code",
   "execution_count": null,
   "metadata": {},
   "outputs": [],
   "source": [
    "for i in range (1,21):\n",
    "    if i%3==0 and i%5==0:\n",
    "        break\n",
    "    else:\n",
    "        print(i+1)"
   ]
  },
  {
   "cell_type": "code",
   "execution_count": null,
   "metadata": {},
   "outputs": [],
   "source": [
    "#problem8\n",
    "list1= [5, 7, -7, 'abc', 2, 4, True, 3, 4, 6, 7, 7]\n",
    "for i in range(len(list1)):\n",
    "    print('i = ',list1[i])\n",
    "    if list1[i] == 3:\n",
    "        break  \n",
    "      \n",
    "    "
   ]
  },
  {
   "cell_type": "code",
   "execution_count": null,
   "metadata": {},
   "outputs": [],
   "source": [
    "#problem9\n",
    "correct_num=5\n",
    "i=1\n",
    "while i<=10:\n",
    "    guess=int(input('Guess: '))\n",
    "    if guess==correct_num:\n",
    "         print(\"Good guess!\")\n",
    "         break\n",
    "    i=i+1"
   ]
  },
  {
   "cell_type": "code",
   "execution_count": null,
   "metadata": {},
   "outputs": [],
   "source": [
    "#problem10\n",
    "num=[7,8, 120, 25, 44, 20, 27]\n",
    "even=[x for x in num if x%2==0]\n",
    "print(num,'\\n',even)"
   ]
  },
  {
   "cell_type": "code",
   "execution_count": null,
   "metadata": {},
   "outputs": [],
   "source": [
    "#problem11\n",
    "list3=[x**2 for x in range(1,51)]\n",
    "print(list3)"
   ]
  },
  {
   "cell_type": "code",
   "execution_count": 1,
   "metadata": {},
   "outputs": [
    {
     "name": "stdout",
     "output_type": "stream",
     "text": [
      "[True, 40, 20]\n",
      "[40, 20]\n"
     ]
    }
   ],
   "source": [
    "#problem12\n",
    "list1=[True,40,20]\n",
    "list2=[x for x in list1 if x>=20]\n",
    "print(list1)\n",
    "print(list2)"
   ]
  },
  {
   "cell_type": "code",
   "execution_count": 15,
   "metadata": {},
   "outputs": [
    {
     "name": "stdout",
     "output_type": "stream",
     "text": [
      "text: qwert\n",
      "['q', 'w', 'e', 'r', 't']\n"
     ]
    }
   ],
   "source": [
    "#problem13\n",
    "str1=input(\"text: \")\n",
    "l1=[]\n",
    "for i in range(len(str1)):\n",
    "    l1.append(str1[i])\n",
    "print(l1)"
   ]
  },
  {
   "cell_type": "code",
   "execution_count": 17,
   "metadata": {},
   "outputs": [
    {
     "name": "stdout",
     "output_type": "stream",
     "text": [
      "2\n"
     ]
    }
   ],
   "source": [
    " list1=['a', 'abc', 'xyz', 's', 'aba','1221']\n",
    "c=0\n",
    "for i in list1:\n",
    "    if len(i)>2 and i[0]==i[-1]:\n",
    "        c=c+1\n",
    "print(c)"
   ]
  },
  {
   "cell_type": "code",
   "execution_count": null,
   "metadata": {},
   "outputs": [],
   "source": []
  }
 ],
 "metadata": {
  "kernelspec": {
   "display_name": "Python 3",
   "language": "python",
   "name": "python3"
  },
  "language_info": {
   "codemirror_mode": {
    "name": "ipython",
    "version": 3
   },
   "file_extension": ".py",
   "mimetype": "text/x-python",
   "name": "python",
   "nbconvert_exporter": "python",
   "pygments_lexer": "ipython3",
   "version": "3.7.1"
  }
 },
 "nbformat": 4,
 "nbformat_minor": 2
}
