{
 "cells": [
  {
   "cell_type": "code",
   "execution_count": null,
   "metadata": {},
   "outputs": [],
   "source": [
    "#1\n",
    "list1= ['hello', 1, True]\n",
    "x=input('1: ')\n",
    "y=input('2: ')\n",
    "print(list1)\n",
    "list1.append(x)\n",
    "list1.append(y)\n",
    "print(list1)"
   ]
  },
  {
   "cell_type": "code",
   "execution_count": null,
   "metadata": {},
   "outputs": [],
   "source": [
    "#2\n",
    "list1= ['hello', 1, True]\n",
    "x=input('1: ')\n",
    "y=input('2: ')\n",
    "newlist=list1.copy()\n",
    "newlist.append(x)\n",
    "newlist.append(y)\n",
    "print(list1)\n",
    "print(newlist)\n",
    "\n"
   ]
  },
  {
   "cell_type": "code",
   "execution_count": null,
   "metadata": {},
   "outputs": [],
   "source": [
    "#3\n",
    "list2=[1,2,3,4,4,4,5]\n",
    "\n",
    "x=int(input('Check (x): '))\n",
    "      \n",
    "print('number of x: ',list2.count(x))"
   ]
  },
  {
   "cell_type": "code",
   "execution_count": null,
   "metadata": {},
   "outputs": [],
   "source": [
    "#4\n",
    "list4=[1,2,3,4,4,4,5]\n",
    "\n",
    "print(\"before: \",list4)\n",
    "x=int(input('X: '))\n",
    "listn=list4.copy()\n",
    "listn.remove(x)\n",
    "print(\"after: \",listn)\n"
   ]
  },
  {
   "cell_type": "code",
   "execution_count": null,
   "metadata": {},
   "outputs": [],
   "source": [
    "#5\n",
    "list5=[1,2,3,4,5,6,7]\n",
    "list5.pop(5)\n",
    "list5.pop(4)\n",
    "list5.pop(0)\n",
    "print(list5)"
   ]
  },
  {
   "cell_type": "code",
   "execution_count": null,
   "metadata": {},
   "outputs": [],
   "source": [
    "#6\n",
    "list5=[1,2,3,4,5,6,7]\n",
    "listnew=list5.copy()\n",
    "listnew.pop(5)\n",
    "listnew.pop(4)\n",
    "listnew.pop(0)\n",
    "print(list5)\n",
    "print(listnew)"
   ]
  },
  {
   "cell_type": "code",
   "execution_count": null,
   "metadata": {},
   "outputs": [],
   "source": [
    "#7\n",
    "l1=[1,2,3,4,5]\n",
    "print(l1)\n",
    "l2=['a','b','c']\n",
    "print(l2)\n",
    "l1.pop(-1)\n",
    "l1.append(l2)\n",
    "print(l1)"
   ]
  },
  {
   "cell_type": "code",
   "execution_count": null,
   "metadata": {},
   "outputs": [],
   "source": [
    "#8\n",
    "set1={1,2,3,4,5,6}\n",
    "x=set([int(input('New element: '))])     \n",
    "set1.union(x)"
   ]
  },
  {
   "cell_type": "code",
   "execution_count": null,
   "metadata": {},
   "outputs": [],
   "source": [
    "#9\n",
    "set2 =  {False,1,'hello', 'barev'}\n",
    "print(set2)\n",
    "set2.remove(input('check: '))\n",
    "print(set2)"
   ]
  },
  {
   "cell_type": "code",
   "execution_count": null,
   "metadata": {},
   "outputs": [],
   "source": [
    "#10\n",
    "set2 =  {False,1,'hello', 'barev'}\n",
    "print(set2)\n",
    "set2.discard(input('check: '))\n",
    "print(set2)"
   ]
  },
  {
   "cell_type": "code",
   "execution_count": null,
   "metadata": {},
   "outputs": [],
   "source": [
    "#11\n",
    "set1={1,2,3}\n",
    "set2={2,3,4}\n",
    "print('\\n', set1,'\\n',set2,'\\n',set1.union(set2),'\\n',set1.intersection(set2))"
   ]
  },
  {
   "cell_type": "code",
   "execution_count": null,
   "metadata": {},
   "outputs": [],
   "source": [
    "#12\n",
    "set3={1, 2, 3, 4, 5, 6, 8}\n",
    "print('min: ',min(set3))\n",
    "print('max: ',max(set3))\n",
    "min(set3)<int(input('Check: '))<max(set3)"
   ]
  },
  {
   "cell_type": "code",
   "execution_count": null,
   "metadata": {},
   "outputs": [],
   "source": [
    "#13\n",
    "t1 = (1, 2, 3, 4, 5, 6, 7 )\n",
    "print(t1[3])\n",
    "print(t1[-4])"
   ]
  },
  {
   "cell_type": "code",
   "execution_count": null,
   "metadata": {},
   "outputs": [],
   "source": [
    "#14\n",
    "t2 = (1, 2, 3, 4, 5, 6, 7 )\n",
    "print(t2)\n",
    "t2=list(t2)\n",
    "t2[3]='hello'\n",
    "print(tuple(t2))\n"
   ]
  },
  {
   "cell_type": "code",
   "execution_count": null,
   "metadata": {},
   "outputs": [],
   "source": [
    "#15\n",
    "dict1={'a': 1, 'b': 2, 'c': 3, 'd': 4}\n",
    "#dict1[input('key: ')]=int(input('value: '))\n",
    "x=input('key: ')\n",
    "y=input('value: ')\n",
    "dict1[x]=y\n",
    "print(dict1)"
   ]
  },
  {
   "cell_type": "code",
   "execution_count": null,
   "metadata": {},
   "outputs": [],
   "source": [
    "#16\n",
    "l1= [(1, 'a'), (2,'b'), (3,'c')]\n",
    "dict1={l1[0][0]:l1[0][1],l1[1][0]:l1[1][1],l1[2][0]:l1[2][1]}\n",
    "print(dict1)\n"
   ]
  }
 ],
 "metadata": {
  "kernelspec": {
   "display_name": "Python 3",
   "language": "python",
   "name": "python3"
  },
  "language_info": {
   "codemirror_mode": {
    "name": "ipython",
    "version": 3
   },
   "file_extension": ".py",
   "mimetype": "text/x-python",
   "name": "python",
   "nbconvert_exporter": "python",
   "pygments_lexer": "ipython3",
   "version": "3.7.1"
  }
 },
 "nbformat": 4,
 "nbformat_minor": 2
}
