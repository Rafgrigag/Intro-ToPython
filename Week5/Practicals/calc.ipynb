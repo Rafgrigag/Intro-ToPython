{
 "cells": [
  {
   "cell_type": "code",
   "execution_count": 8,
   "metadata": {},
   "outputs": [
    {
     "name": "stdout",
     "output_type": "stream",
     "text": [
      "Result: 4\n",
      "The result of the operation is 64\n"
     ]
    }
   ],
   "source": [
    "from pretty_print import *\n",
    "\n",
    "def calculate_square(x):\n",
    "    x=x**2\n",
    "    return x\n",
    "    \n",
    "def calculate_cube(x):\n",
    "    x=x**3\n",
    "    return x\n",
    "def main(x,y):\n",
    "    x=calculate_square(x)\n",
    "    y=calculate_cube(y)\n",
    "    x=simple_print(x)\n",
    "    y=pro_print(y)\n",
    "main(2,4)"
   ]
  },
  {
   "cell_type": "code",
   "execution_count": null,
   "metadata": {},
   "outputs": [],
   "source": []
  }
 ],
 "metadata": {
  "kernelspec": {
   "display_name": "Python 3",
   "language": "python",
   "name": "python3"
  },
  "language_info": {
   "codemirror_mode": {
    "name": "ipython",
    "version": 3
   },
   "file_extension": ".py",
   "mimetype": "text/x-python",
   "name": "python",
   "nbconvert_exporter": "python",
   "pygments_lexer": "ipython3",
   "version": "3.7.1"
  }
 },
 "nbformat": 4,
 "nbformat_minor": 2
}
