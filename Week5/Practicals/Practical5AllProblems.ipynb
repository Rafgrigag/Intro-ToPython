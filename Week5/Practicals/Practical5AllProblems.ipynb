{
 "cells": [
  {
   "cell_type": "code",
   "execution_count": null,
   "metadata": {},
   "outputs": [],
   "source": [
    "#problem1\n",
    "def mijin(x,y,z):\n",
    "    c=(x+y+z)/3\n",
    "    return c\n",
    "mijin(3,4,5)\n"
   ]
  },
  {
   "cell_type": "code",
   "execution_count": null,
   "metadata": {},
   "outputs": [],
   "source": [
    "#problem2\n",
    "def numofevens(x):\n",
    "    c=0\n",
    "    for i in x:\n",
    "        if i%2==0:\n",
    "            c=c+1\n",
    "    return c\n",
    "numofevens([1,2,3,4,5,6])\n"
   ]
  },
  {
   "cell_type": "code",
   "execution_count": null,
   "metadata": {},
   "outputs": [],
   "source": [
    "#problem3\n",
    "def password(x):\n",
    "    if len(x)>8 and any(i.isupper() for i in x) and any(i.isdigit() for i in x):\n",
    "        a=True\n",
    "    else:\n",
    "        a=False\n",
    "    return a      \n",
    "x=input('Pass: ')      \n",
    "password(x)\n",
    "        \n",
    "        \n",
    "        "
   ]
  },
  {
   "cell_type": "code",
   "execution_count": 15,
   "metadata": {},
   "outputs": [
    {
     "name": "stdout",
     "output_type": "stream",
     "text": [
      "John, Welcome to our company!\n"
     ]
    }
   ],
   "source": [
    "#problem4\n",
    "def greeting(name,greeting='Welcome to our company!'):\n",
    "    print(name+', '+greeting)\n",
    "greeting('John')\n"
   ]
  },
  {
   "cell_type": "code",
   "execution_count": 61,
   "metadata": {},
   "outputs": [
    {
     "name": "stdout",
     "output_type": "stream",
     "text": [
      "Raf,your average grade is: 3.5\n"
     ]
    }
   ],
   "source": [
    "#problem5\n",
    "def grades(name,*grades):\n",
    "    if len(list(grades))>=1:\n",
    "        for i in grades:\n",
    "            sum(grades)\n",
    "        print(name+',your average grade is:', sum(grades)/len(list(grades)))\n",
    "    else:\n",
    "        print('No grades available for '+name)\n",
    "    \n",
    "grades(\"Raf\",5,4,3,2)\n"
   ]
  },
  {
   "cell_type": "code",
   "execution_count": 88,
   "metadata": {},
   "outputs": [
    {
     "name": "stdout",
     "output_type": "stream",
     "text": [
      "karen\n"
     ]
    }
   ],
   "source": [
    "#problem6\n",
    "def func(user,**kwargs):\n",
    "    if user=='admin':\n",
    "        for key, value in kwargs.items():\n",
    "            print(\"Argument: \", key,\", value: \", value)\n",
    "    else:\n",
    "        print(user)\n",
    "func('Raf',h=3,k=4,LKL='ooi')"
   ]
  },
  {
   "cell_type": "code",
   "execution_count": null,
   "metadata": {},
   "outputs": [],
   "source": []
  }
 ],
 "metadata": {
  "kernelspec": {
   "display_name": "Python 3",
   "language": "python",
   "name": "python3"
  },
  "language_info": {
   "codemirror_mode": {
    "name": "ipython",
    "version": 3
   },
   "file_extension": ".py",
   "mimetype": "text/x-python",
   "name": "python",
   "nbconvert_exporter": "python",
   "pygments_lexer": "ipython3",
   "version": "3.7.1"
  }
 },
 "nbformat": 4,
 "nbformat_minor": 2
}
