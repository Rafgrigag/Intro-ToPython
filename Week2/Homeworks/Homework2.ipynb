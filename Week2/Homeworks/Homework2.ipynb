{
 "cells": [
  {
   "cell_type": "code",
   "execution_count": null,
   "metadata": {},
   "outputs": [],
   "source": [
    "#problem1\n",
    "import time\n",
    "import datetime\n",
    "import calendar\n",
    "\n",
    "num_y=int(input('Years:' ))*365\n",
    "num_d=int(input('Days:' ))\n",
    "tday = datetime.datetime.today()\n",
    "tdelta=datetime.timedelta(days = num_y + num_d)\n",
    "print('Current date: ',tday)hu\n",
    "print('Date today + years + days: ', tday + tdelta)"
   ]
  },
  {
   "cell_type": "code",
   "execution_count": null,
   "metadata": {},
   "outputs": [],
   "source": [
    "#problem2\n",
    "text=input(\"Text: \")\n",
    "x=len(text)\n",
    "y=x/2-1\n",
    "z=x/2+2\n",
    "text1=text[0:int(y)]+text[int(y):int(z)].upper()+text[int(z):]\n",
    "print(\"Middle 3: \",text[int(y):int(z)])\n",
    "print(\"new string: \",text1)"
   ]
  },
  {
   "cell_type": "code",
   "execution_count": null,
   "metadata": {},
   "outputs": [],
   "source": [
    "#problem3\n",
    "text=input(\"Text: \")\n",
    "x=input(\"find: \")\n",
    "y=input(\"replacec with: \")\n",
    "print(text.replace(x,y))"
   ]
  },
  {
   "cell_type": "code",
   "execution_count": null,
   "metadata": {},
   "outputs": [],
   "source": [
    "#problem4\n",
    "text=input(\"Text: \")\n",
    "print(\"The USA/usa count is: \",text.count(\"USA\")+text.count(\"usa\"))\n",
    "s1=text.replace('USA','Armenia')\n",
    "s2=s1.replace('usa','Armenia')\n",
    "print('The new string: ', s2)"
   ]
  },
  {
   "cell_type": "code",
   "execution_count": null,
   "metadata": {},
   "outputs": [],
   "source": [
    "#problem5\n",
    "bd = datetime.datetime(1992, 12, 23)\n",
    "print('My Birthdate: ',bd)\n",
    "print('My Birthdate year: ',bd.year)\n",
    "print('My Birthdate month: ',bd.month)\n",
    "print('My Birthdate day: ',bd.day)\n",
    "print('My Birthdate day of the week: ',bd.isoweekday())\n",
    "cal = calendar.month(2017, 5)\n",
    "tday = datetime.date.today()\n",
    "bday = datetime.date(2020, 12, 23)\n",
    "till_bday = bday - tday\n",
    "print(\"Days until my next birthday: \", till_bday)\n",
    "print (\"Here is the calendar:\")\n",
    "print (cal)\n",
    "one_day = datetime.timedelta(days = 1)\n",
    "two_days = datetime.timedelta(days = 2)\n",
    "three_days = datetime.timedelta(days = 3)\n",
    "yesterday=tday-one_day\n",
    "print('Yesterday: ',yesterday)\n",
    "print('Yesterday + 2 days: ',yesterday+two_days)\n",
    "print('Yesterday - 3 days: ',yesterday-three_days)\n",
    "\n"
   ]
  }
 ],
 "metadata": {
  "kernelspec": {
   "display_name": "Python 3",
   "language": "python",
   "name": "python3"
  },
  "language_info": {
   "codemirror_mode": {
    "name": "ipython",
    "version": 3
   },
   "file_extension": ".py",
   "mimetype": "text/x-python",
   "name": "python",
   "nbconvert_exporter": "python",
   "pygments_lexer": "ipython3",
   "version": "3.7.1"
  }
 },
 "nbformat": 4,
 "nbformat_minor": 2
}
